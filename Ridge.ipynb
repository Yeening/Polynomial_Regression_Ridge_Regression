{
 "cells": [
  {
   "cell_type": "code",
   "execution_count": 1,
   "metadata": {},
   "outputs": [],
   "source": [
    "# Machine Learning HW2 Ridge Regression\n",
    "\n",
    "import matplotlib.pyplot as plt\n",
    "import numpy as np"
   ]
  },
  {
   "cell_type": "code",
   "execution_count": 37,
   "metadata": {},
   "outputs": [
    {
     "name": "stdout",
     "output_type": "stream",
     "text": [
      "[46.74898636]\n",
      "[33.60502862]\n",
      "[32.34414127]\n",
      "[-48.71858047]\n",
      "[46.74898636]\n",
      "[33.60502862]\n",
      "[32.34414127]\n",
      "[-48.71858047]\n",
      "[46.74898636]\n",
      "[33.60502862]\n",
      "[32.34414127]\n",
      "[-48.71858047]\n"
     ]
    },
    {
     "data": {
      "text/plain": [
       "(array([5.67994235, 5.14906918, 4.22617369]),\n",
       " array([1.10524079, 1.26487568, 1.93798789]))"
      ]
     },
     "execution_count": 37,
     "metadata": {},
     "output_type": "execute_result"
    }
   ],
   "source": [
    "x, y = load_data_set(\"dataRidge.txt\")\n",
    "x.shape,y.shape\n",
    "x_train, x_test, y_train, y_test = train_test_split(x, y, 0.8)\n",
    "# a = np.arange(9).reshape(3,3)\n",
    "# b = np.arange(3).reshape(3,1)\n",
    "# x_train, x_test, y_train, y_test = train_test_split(a, b, 0.8)\n",
    "# print(x_test)\n",
    "# a=np.concatenate((x_test,x_train),axis=0)\n",
    "# print(a)\n",
    "# x_train, x_test, y_train, y_test = train_test_split(a, b, 0.8)\n",
    "# print(x_test)\n",
    "cross_validation(x_train, y_train, [0.2,0.3,1])"
   ]
  },
  {
   "cell_type": "code",
   "execution_count": 38,
   "metadata": {},
   "outputs": [],
   "source": [
    "# Parse the file and return 2 numpy arrays\n",
    "def load_data_set(filename):\n",
    "    # your code\n",
    "    x = []\n",
    "    y = []\n",
    "    f = open(filename, 'r')\n",
    "    for line in f:\n",
    "        data = line.split()\n",
    "        x.append(data[:-1]) #elements before the last column\n",
    "        y.append(data[-1]) #the last element\n",
    "    return np.array(x,dtype=float), np.array(y,dtype=float).reshape(-1,1)\n",
    "\n",
    "# Split the data into train and test examples by the train_proportion\n",
    "# i.e. if train_proportion = 0.8 then 80% of the examples are training and 20%\n",
    "# are testing\n",
    "def train_test_split(x, y, train_proportion):\n",
    "    # your code\n",
    "    x_sets = np.split(x,[int(x.shape[0]*train_proportion)],axis=0)\n",
    "    y_sets = np.split(y,[int(y.shape[0]*train_proportion)],axis=0)\n",
    "    x_train = x_sets[0]\n",
    "    x_test = x_sets[1]\n",
    "    y_train = y_sets[0]\n",
    "    y_test = y_sets[1]\n",
    "    return x_train, x_test, y_train, y_test\n",
    "\n",
    "# Find theta using the modified normal equation\n",
    "# Note: lambdaV is used instead of lambda because lambda is a reserved word in python\n",
    "def normal_equation(x, y, lambdaV):\n",
    "    # your code\n",
    "    beta = np.linalg.inv(x.T.dot(x)+lambdaV*np.identity(x[0].shape[0],dtype=float)).dot(x.T.dot(y))\n",
    "    return beta\n",
    "\n",
    "# Extra Credit: Find theta using gradient descent\n",
    "def gradient_descent(x, y, lambdaV, num_iterations, learning_rate):\n",
    "    # your code\n",
    "    return beta\n",
    "\n",
    "# Given an array of y and y_predict return loss\n",
    "def get_loss(y, y_predict):\n",
    "    # your code\n",
    "    loss = np.sum(np.square(y - y_predict)) / y.shape[0]\n",
    "    return loss\n",
    "\n",
    "# Given an array of x and theta predict y\n",
    "def predict(x, theta):\n",
    "    # your code\n",
    "    y_predict = x.dot(theta)\n",
    "    return y_predict\n",
    "\n",
    "# Find the best lambda given x_train and y_train using 4 fold cv\n",
    "def cross_validation(x_train, y_train, lambdas):\n",
    "    valid_losses = []\n",
    "    training_losses = []\n",
    "    # your code\n",
    "    for lambdaV in lambdas:\n",
    "        trianing_loss = 0\n",
    "        validation_loss = 0\n",
    "        for i in range(4):\n",
    "            # Split training and validation sets for cross validation\n",
    "            x_train, x_val, y_train, y_val = train_test_split(x_train, y_train, 0.75)\n",
    "            beta = normal_equation(x_train, y_train, lambdaV)\n",
    "            y_train_pred = predict(x_train, beta)\n",
    "            y_val_pred = predict(x_val,beta)\n",
    "            trianing_loss += get_loss(y_train, y_train_pred)\n",
    "            validation_loss += get_loss(y_val, y_val_pred)\n",
    "            x_train,y_train = np.concatenate((x_val,x_train), axis = 0), np.concatenate((y_val,y_train), axis = 0)\n",
    "            \n",
    "        training_losses.append(trianing_loss/4)\n",
    "        valid_losses.append(validation_loss/4)\n",
    "        \n",
    "    return np.array(valid_losses), np.array(training_losses)"
   ]
  },
  {
   "cell_type": "code",
   "execution_count": 40,
   "metadata": {},
   "outputs": [
    {
     "data": {
      "image/png": "[encoded data removed]",
      "text/plain": [
       "<Figure size 432x288 with 1 Axes>"
      ]
     },
     "metadata": {
      "needs_background": "light"
     },
     "output_type": "display_data"
    }
   ],
   "source": [
    "if __name__ == \"__main__\":\n",
    "\n",
    "    # step 1\n",
    "    # If we don't have enough data we will use cross validation to tune hyperparameter\n",
    "    # instead of a training set and a validation set.\n",
    "    x, y = load_data_set(\"dataRidge.txt\") # load data\n",
    "    x_train, x_test, y_train, y_test = train_test_split(x, y, 0.8)\n",
    "    # Create a list of lambdas to try when hyperparameter tuning\n",
    "    lambdas = [2**i for i in range(-3, 9)]\n",
    "    lambdas.insert(0, 0)\n",
    "    # Cross validate\n",
    "    valid_losses, training_losses = cross_validation(x_train, y_train, lambdas)\n",
    "    # Plot training vs validation loss\n",
    "    plt.plot(lambdas[1:], training_losses[1:], label=\"training_loss\") \n",
    "    # exclude the first point because it messes with the x scale\n",
    "    plt.plot(lambdas[1:], valid_losses[1:], label=\"validation_loss\")\n",
    "    plt.legend(loc='best')\n",
    "    plt.xscale(\"log\")\n",
    "    plt.yscale(\"log\")\n",
    "    plt.title(\"lambda vs training and validation loss\")\n",
    "    plt.show()\n",
    "\n",
    "    best_lambda = lambdas[np.argmin(valid_losses)]"
   ]
  },
  {
   "cell_type": "code",
   "execution_count": 39,
   "metadata": {},
   "outputs": [
    {
     "ename": "SyntaxError",
     "evalue": "invalid syntax (<ipython-input-39-b8cc36f71782>, line 30)",
     "output_type": "error",
     "traceback": [
      "\u001b[0;36m  File \u001b[0;32m\"<ipython-input-39-b8cc36f71782>\"\u001b[0;36m, line \u001b[0;32m30\u001b[0m\n\u001b[0;31m    normal_beta_norm = # your code get l2 norm of normal_beta\u001b[0m\n\u001b[0m                                                             ^\u001b[0m\n\u001b[0;31mSyntaxError\u001b[0m\u001b[0;31m:\u001b[0m invalid syntax\n"
     ]
    }
   ],
   "source": [
    "\n",
    "\n",
    "\n",
    "    # step 2: analysis \n",
    "    normal_beta = normal_equation(x_train, y_train, 0)\n",
    "    best_beta = normal_equation(x_train, y_train, best_lambda)\n",
    "    large_lambda_beta = normal_equation(x_train, y_train, 512)\n",
    "    normal_beta_norm = # your code get l2 norm of normal_beta\n",
    "    best_beta_norm = # your code get l2 norm of best_beta\n",
    "    large_lambda_norm = # your code get l2 norm of large_lambda_beta\n",
    "    print(best_lambda)\n",
    "    print(\"L2 norm of normal beta:  \" + str(normal_beta_norm))\n",
    "    print(\"L2 norm of best beta:  \" + str(best_beta_norm))\n",
    "    print(\"L2 norm of large lambda beta:  \" + str(large_lambda_norm))\n",
    "    print(\"Average testing loss for normal beta:  \" + str(get_loss(y_test, predict(x_test, normal_beta))))\n",
    "    print(\"Average testing loss for best beta:  \" + str(get_loss(y_test, predict(x_test, best_beta))))\n",
    "    print(\"Average testing loss for large lambda beta:  \" + str(get_loss(y_test, predict(x_test, large_lambda_beta))))\n",
    "    bar_plot(best_beta)\n",
    "\n",
    "\n",
    "    # Step3: Retrain a new model using all sampling in training, then report error on testing set\n",
    "    # your code ! \n",
    "\n",
    "\n",
    "    # Step Extra Credit: Implement gradient descent, analyze and show it gives the same or very similar beta to normal_equation\n",
    "    # to prove that it works\n",
    "\n"
   ]
  }
 ],
 "metadata": {
  "kernelspec": {
   "display_name": "ml3.7",
   "language": "python",
   "name": "ml3.7"
  },
  "language_info": {
   "codemirror_mode": {
    "name": "ipython",
    "version": 3
   },
   "file_extension": ".py",
   "mimetype": "text/x-python",
   "name": "python",
   "nbconvert_exporter": "python",
   "pygments_lexer": "ipython3",
   "version": "3.7.4"
  }
 },
 "nbformat": 4,
 "nbformat_minor": 2
}
